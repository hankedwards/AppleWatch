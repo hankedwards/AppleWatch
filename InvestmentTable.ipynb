{
  "cells": [
    {
      "cell_type": "markdown",
      "metadata": {
        "id": "view-in-github",
        "colab_type": "text"
      },
      "source": [
        "<a href=\"https://colab.research.google.com/github/hankedwards/AppleWatch/blob/master/InvestmentTable.ipynb\" target=\"_parent\"><img src=\"https://colab.research.google.com/assets/colab-badge.svg\" alt=\"Open In Colab\"/></a>"
      ]
    },
    {
      "cell_type": "markdown",
      "id": "1b9ca18b",
      "metadata": {
        "id": "1b9ca18b"
      },
      "source": [
        "## Generate rate of return table for each investment in Investdb3\n"
      ]
    },
    {
      "cell_type": "code",
      "execution_count": null,
      "id": "bfdf4a71",
      "metadata": {
        "id": "bfdf4a71"
      },
      "outputs": [],
      "source": [
        "import datetime as dt\n",
        "# import pytz\n",
        "import sqlite3\n",
        "import pandas as pd\n",
        "import numpy as np\n",
        "from pandas import DataFrame\n",
        "from datetime import datetime, date, timedelta"
      ]
    },
    {
      "cell_type": "markdown",
      "id": "509c79fa",
      "metadata": {
        "id": "509c79fa"
      },
      "source": [
        "## Create dataframe from SQLite database"
      ]
    },
    {
      "cell_type": "markdown",
      "source": [
        "### Set up colab to access google drive"
      ],
      "metadata": {
        "id": "B84zPPWcK8t_"
      },
      "id": "B84zPPWcK8t_"
    },
    {
      "cell_type": "code",
      "source": [
        "from google.colab import drive\n",
        "# drive.mount('/content/drive')\n",
        "drive.mount(\"/content/drive\", force_remount=True)"
      ],
      "metadata": {
        "id": "CdTcfT_OXg1u"
      },
      "id": "CdTcfT_OXg1u",
      "execution_count": null,
      "outputs": []
    },
    {
      "cell_type": "markdown",
      "source": [
        "## Connect to the database"
      ],
      "metadata": {
        "id": "_0_0N-tDLQpv"
      },
      "id": "_0_0N-tDLQpv"
    },
    {
      "cell_type": "code",
      "execution_count": null,
      "id": "4ae517d7",
      "metadata": {
        "id": "4ae517d7"
      },
      "outputs": [],
      "source": [
        " # # def readdata():\n",
        "db_conn = sqlite3.connect('/content/drive/MyDrive/Colab Notebooks/Net Worth Experiments/invest3.db')\n",
        "df = pd.read_sql_query(\"SELECT * from Inv2\", db_conn)\n",
        "# Covert to date object"
      ]
    },
    {
      "cell_type": "code",
      "execution_count": null,
      "id": "08248085",
      "metadata": {
        "id": "08248085"
      },
      "outputs": [],
      "source": [
        "print(df.info())"
      ]
    },
    {
      "cell_type": "markdown",
      "source": [
        "### Set up Colab data frame formatter"
      ],
      "metadata": {
        "id": "KbJ8zySyLfy3"
      },
      "id": "KbJ8zySyLfy3"
    },
    {
      "cell_type": "code",
      "source": [
        "from google.colab import data_table\n",
        "# from vega_datasets import data\n",
        "\n",
        "data_table.enable_dataframe_formatter()"
      ],
      "metadata": {
        "id": "VMNma3qer4cP"
      },
      "id": "VMNma3qer4cP",
      "execution_count": null,
      "outputs": []
    },
    {
      "cell_type": "markdown",
      "source": [
        "## Display the table using Colab table formatter"
      ],
      "metadata": {
        "id": "JPZOE12OsQMN"
      },
      "id": "JPZOE12OsQMN"
    },
    {
      "cell_type": "code",
      "source": [
        "df"
      ],
      "metadata": {
        "id": "7LSNNAiGsDxb"
      },
      "id": "7LSNNAiGsDxb",
      "execution_count": null,
      "outputs": []
    },
    {
      "cell_type": "code",
      "execution_count": null,
      "id": "96657f61",
      "metadata": {
        "id": "96657f61"
      },
      "outputs": [],
      "source": [
        "df['dtdate'] = pd.to_datetime(df['Date'], format='%Y-%m-%d').dt.strftime('%m/%d/%Y')\n",
        "df['dtmonth'] =pd.DatetimeIndex(df['dtdate']).month\n",
        "df['dtyear'] =pd.DatetimeIndex(df['dtdate']).year"
      ]
    },
    {
      "cell_type": "code",
      "source": [
        "yeardf = df[(df['dtyear'] >= 2017) ]\n",
        "yeardf.sort_values(by=['Investment', 'Date'], ascending =[True,True ],inplace = True)\n",
        "yeardf"
      ],
      "metadata": {
        "id": "CccQPFAZ513p"
      },
      "id": "CccQPFAZ513p",
      "execution_count": null,
      "outputs": []
    },
    {
      "cell_type": "code",
      "source": [
        "yeardf.reindex()"
      ],
      "metadata": {
        "id": "lrGdboDHddUv"
      },
      "id": "lrGdboDHddUv",
      "execution_count": null,
      "outputs": []
    },
    {
      "cell_type": "code",
      "source": [
        "uniinv = yeardf.Investment.unique()\n",
        "uniinv =['BL Nationwide', 'Cheryl Fidelity','Novartis/Fidelity', 'WellsFargo Henry', 'WellsFargo Cheryl']\n",
        "uniinv.sort()\n",
        "uniinv                "
      ],
      "metadata": {
        "id": "o4pfIjFyNVDw"
      },
      "id": "o4pfIjFyNVDw",
      "execution_count": null,
      "outputs": []
    },
    {
      "cell_type": "code",
      "source": [
        "yearrange = range(2017, 2023)"
      ],
      "metadata": {
        "id": "fYg_cHxmUwcf"
      },
      "id": "fYg_cHxmUwcf",
      "execution_count": null,
      "outputs": []
    },
    {
      "cell_type": "markdown",
      "source": [
        "##Loop through investments and years to create list \n"
      ],
      "metadata": {
        "id": "kkwKqhn05RC8"
      },
      "id": "kkwKqhn05RC8"
    },
    {
      "cell_type": "code",
      "source": [
        "firsttime = True\n",
        "invlist =[]\n",
        "for inv in uniinv:\n",
        "  for yr in yearrange:\n",
        "    invdf = yeardf.loc[(yeardf['Investment'] == inv) & (yeardf['dtyear']== yr)].head(1)\n",
        "    invdffull = yeardf.loc[(yeardf['Investment'] == inv) & (yeardf['dtyear']== yr)]\n",
        "    begamt = invdf[\"Amount\"].values[0]\n",
        "    begmt = \"${:,}\".format(begamt)\n",
        "    begdate = invdf[\"dtdate\"].values[0]\n",
        "    maxamt = \"${:,}\".format(invdffull[\"Amount\"].max())\n",
        "    minamt = \"${:,}\".format(invdffull[\"Amount\"].min())\n",
        "    avgamt = \"${:,.0f}\".format(invdffull[\"Amount\"].mean())\n",
        "    taildf = yeardf[(yeardf['Investment'] == inv) & (yeardf['dtyear']== yr)].tail(1)  \n",
        "    endamt = taildf[\"Amount\"].values[0]\n",
        "    endamt1 = \"${:,}\".format(endamt)\n",
        "    enddate = taildf[\"dtdate\"].values[0] \n",
        "    ratereturn = ((endamt - begamt)/begamt)*100\n",
        "    rtereturn = (round(ratereturn,2))\n",
        "    # rtereturn = \"{:6.4f}\".format(ratereturn)\n",
        "    invlist = [inv, yr, maxamt, minamt, avgamt, begmt, endamt1, rtereturn]\n",
        "    if firsttime:\n",
        "      invlist2 = [invlist]\n",
        "      firsttime = False\n",
        "    else:\n",
        "      invlist2.append(invlist)\n"
      ],
      "metadata": {
        "id": "ajTiyTypNjeN"
      },
      "id": "ajTiyTypNjeN",
      "execution_count": null,
      "outputs": []
    },
    {
      "cell_type": "code",
      "source": [
        "print(invlist2)"
      ],
      "metadata": {
        "id": "OWE7B7Kvw7gx"
      },
      "id": "OWE7B7Kvw7gx",
      "execution_count": null,
      "outputs": []
    },
    {
      "cell_type": "code",
      "source": [
        "dfudf = DataFrame(invlist2, columns=['inv', 'yr', 'maxamt', 'minamt', 'avgamt', 'begmt', 'endamt1', 'rtereturn'])"
      ],
      "metadata": {
        "id": "EQr1YWBlx04s"
      },
      "id": "EQr1YWBlx04s",
      "execution_count": null,
      "outputs": []
    },
    {
      "cell_type": "code",
      "source": [
        "dfudf"
      ],
      "metadata": {
        "id": "Kkcj2iO63UOl"
      },
      "id": "Kkcj2iO63UOl",
      "execution_count": null,
      "outputs": []
    },
    {
      "cell_type": "code",
      "source": [
        "# dfudf.sort_values(by=['yr','inv'])\n",
        "import plotly.express as px\n",
        "\n",
        "fig = px.bar(dfudf, x=\"yr\", y=\"rtereturn\",color=\"inv\", barmode = 'group',\n",
        "      text_auto=True)\n",
        "fig.update_layout(legend=dict(\n",
        "    yanchor=\"top\",\n",
        "    y=0.99,\n",
        "    xanchor=\"left\",\n",
        "    x=0.85\n",
        "))\n",
        "\n",
        "fig.update_layout(title_text='<b>Rate of Return by Investment', title_x=0.5) \n",
        "\n",
        "fig.show()"
      ],
      "metadata": {
        "id": "05p835lo0llr"
      },
      "id": "05p835lo0llr",
      "execution_count": null,
      "outputs": []
    },
    {
      "cell_type": "code",
      "source": [
        "spdf = pd.read_excel('/content/drive/MyDrive/Colab Notebooks/Net Worth Experiments/SP historical.xlsx') \n",
        "spdf['rtereturn'] = (round(spdf['rtereturn'],2))\n",
        "spdf"
      ],
      "metadata": {
        "id": "RiAGutMK2Psb"
      },
      "id": "RiAGutMK2Psb",
      "execution_count": null,
      "outputs": []
    },
    {
      "cell_type": "code",
      "source": [
        "spdf.info()\n",
        "\n",
        "dfudf.info()\n",
        "combined = pd.concat([spdf, dfudf])\n",
        "combined.info()"
      ],
      "metadata": {
        "id": "AluoGyRW5lf7"
      },
      "id": "AluoGyRW5lf7",
      "execution_count": null,
      "outputs": []
    },
    {
      "cell_type": "code",
      "source": [
        "fig = px.bar(combined, x=\"yr\", y=\"rtereturn\",color=\"inv\", barmode = 'group',\n",
        "      text=\"rtereturn\")\n",
        "fig.update_layout(legend=dict(\n",
        "    yanchor=\"top\",\n",
        "    y=0.99,\n",
        "    xanchor=\"left\",\n",
        "    x=0.85\n",
        "))\n",
        "\n",
        "fig.update_layout(title_text='<b>Rate of Return by Investment', title_x=0.5)\n",
        "                  \n",
        "\n",
        "fig.show()"
      ],
      "metadata": {
        "id": "pa685aIX5aVb"
      },
      "id": "pa685aIX5aVb",
      "execution_count": null,
      "outputs": []
    },
    {
      "cell_type": "code",
      "source": [
        "!pip install yfinance"
      ],
      "metadata": {
        "id": "ye9XwwxfskLM"
      },
      "id": "ye9XwwxfskLM",
      "execution_count": null,
      "outputs": []
    },
    {
      "cell_type": "code",
      "source": [
        "import yfinance\n",
        "# tsla = yfinance.Ticker('FBALX') FMSDX\n",
        "fmsdx = yfinance.Ticker('FMSDX')\n",
        "fmsdx1 = fmsdx.history(period='2y')\n",
        "fbalx = yfinance.Ticker('FBALX')\n",
        "fbalx1 = fbalx.history(period='2y')\n",
        "spxx = yfinance.Ticker('^GSPC')\n",
        "spxx1 = spxx.history(period='2y')\n",
        "comp = yfinance.Ticker('COMP')\n",
        "comp1 = comp.history(period='2y')"
      ],
      "metadata": {
        "id": "MRtCN1lvsKDN"
      },
      "id": "MRtCN1lvsKDN",
      "execution_count": null,
      "outputs": []
    },
    {
      "cell_type": "code",
      "source": [
        "import plotly.graph_objects as go\n",
        "fig = go.Figure(data=go.Scatter(x=spxx1.index,y=spxx1['Close'], mode='lines'))\n",
        "fig.update_layout(title_text='<b>S&P 500</b>', title_x=0.5)\n",
        "# fig = go.Figure(data=go.Scatter(x=fmsdx1.index,y=fmsdx1['Close'], mode='lines'))\n",
        "fig.show()"
      ],
      "metadata": {
        "id": "1SfIJUsutKux"
      },
      "id": "1SfIJUsutKux",
      "execution_count": null,
      "outputs": []
    },
    {
      "cell_type": "code",
      "source": [
        "# import plotly.graph_objects as go\n",
        "from plotly.subplots import make_subplots\n",
        "\n",
        "# Create figure with secondary y-axis\n",
        "fig = make_subplots(specs=[[{\"secondary_y\": True}]])\n",
        "\n",
        "# Add traces\n",
        "# fig = go.Figure(data=go.Scatter(x=fmsdx1.index,y=hist['Close'], mode='lines'))\n",
        "# fig.add_trace(\n",
        "#     go.Scatter(x=comp1.index,y=comp1['Close'], mode='lines'),\n",
        "#     secondary_y=False,\n",
        "# )\n",
        "# fig.add_trace(\n",
        "#     go.Scatter(x=[2, 3, 4], y=[4, 5, 6], name=\"yaxis2 data\"),\n",
        "#     secondary_y=True,\n",
        "fig.add_trace(\n",
        "    go.Scatter(x=spxx1.index,y=spxx1['Close'], mode='lines'),\n",
        "    secondary_y=False,\n",
        ")\n",
        "fig.add_trace(\n",
        "    go.Scatter(x=fbalx1.index,y=fbalx1['Close'], mode='lines'),\n",
        "    secondary_y=True,\n",
        ")\n",
        "# Add figure title\n",
        "fig.update_layout(\n",
        "    title_text=\"<b>Stock Index Comparison</b>\"\n",
        ")\n",
        "\n",
        "# Set x-axis title\n",
        "fig.update_xaxes(title_text=\"Time Frame\")\n",
        "\n",
        "# Set y-axes titles\n",
        "fig.update_yaxes(title_text=\"<b>S&P 500</b> \", secondary_y=False)\n",
        "fig.update_yaxes(title_text=\"<b>FBALX</b> \", secondary_y=True)\n",
        "\n",
        "fig.show()"
      ],
      "metadata": {
        "id": "dSZ4sQkBxPxb"
      },
      "id": "dSZ4sQkBxPxb",
      "execution_count": null,
      "outputs": []
    },
    {
      "cell_type": "markdown",
      "source": [
        "## Disabling Data Table Display\n",
        "\n",
        "To restore the native pandas dataframe display, use the following:"
      ],
      "metadata": {
        "id": "2Kpn5icxgr9a"
      },
      "id": "2Kpn5icxgr9a"
    },
    {
      "cell_type": "code",
      "execution_count": null,
      "id": "95f11d9e-892c-45e3-91be-4021a5d41670",
      "metadata": {
        "id": "95f11d9e-892c-45e3-91be-4021a5d41670"
      },
      "outputs": [],
      "source": [
        "# from google.colab import data_table\n",
        "# data_table.disable_dataframe_formatter()\n",
        "\n",
        "# data.airports()"
      ]
    }
  ],
  "metadata": {
    "kernelspec": {
      "display_name": "Python 3 (ipykernel)",
      "language": "python",
      "name": "python3"
    },
    "language_info": {
      "codemirror_mode": {
        "name": "ipython",
        "version": 3
      },
      "file_extension": ".py",
      "mimetype": "text/x-python",
      "name": "python",
      "nbconvert_exporter": "python",
      "pygments_lexer": "ipython3",
      "version": "3.9.7"
    },
    "colab": {
      "name": "InvestmentTable.ipynb",
      "provenance": [],
      "collapsed_sections": [],
      "private_outputs": true,
      "include_colab_link": true
    }
  },
  "nbformat": 4,
  "nbformat_minor": 5
}