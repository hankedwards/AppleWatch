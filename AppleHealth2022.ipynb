{
  "nbformat": 4,
  "nbformat_minor": 0,
  "metadata": {
    "colab": {
      "name": "AppleHealth2022.ipynb",
      "private_outputs": true,
      "provenance": [],
      "collapsed_sections": [],
      "authorship_tag": "ABX9TyMByk6+AQ8OzwKB2RhDcCLe",
      "include_colab_link": true
    },
    "kernelspec": {
      "name": "python3",
      "display_name": "Python 3"
    },
    "language_info": {
      "name": "python"
    }
  },
  "cells": [
    {
      "cell_type": "markdown",
      "metadata": {
        "id": "view-in-github",
        "colab_type": "text"
      },
      "source": [
        "<a href=\"https://colab.research.google.com/github/hankedwards/AppleWatch/blob/master/AppleHealth2022.ipynb\" target=\"_parent\"><img src=\"https://colab.research.google.com/assets/colab-badge.svg\" alt=\"Open In Colab\"/></a>"
      ]
    },
    {
      "cell_type": "markdown",
      "source": [
        ""
      ],
      "metadata": {
        "id": "R08d62xuU5V7"
      }
    },
    {
      "cell_type": "markdown",
      "source": [
        "#Analyze Apple Health Data"
      ],
      "metadata": {
        "id": "E2FRxz1KMbKB"
      }
    },
    {
      "cell_type": "markdown",
      "source": [
        "## Import the libraries"
      ],
      "metadata": {
        "id": "sPTz5HppM_gF"
      }
    },
    {
      "cell_type": "code",
      "source": [
        "import xml.etree.ElementTree as ET\n",
        "import pandas as pd\n",
        "import datetime\n",
        "from datetime import datetime, timedelta\n",
        "import numpy as np"
      ],
      "metadata": {
        "id": "MpT5xc5bTl8n"
      },
      "execution_count": null,
      "outputs": []
    },
    {
      "cell_type": "code",
      "source": [
        "from google.colab import drive\n",
        "# drive.mount('/content/drive')\n",
        "drive.mount(\"/content/drive\", force_remount=True)"
      ],
      "metadata": {
        "id": "MD4cLWM8Tfnl"
      },
      "execution_count": null,
      "outputs": []
    },
    {
      "cell_type": "markdown",
      "source": [
        "## Create element tree object"
      ],
      "metadata": {
        "id": "hBftMYFdUk1P"
      }
    },
    {
      "cell_type": "code",
      "execution_count": null,
      "metadata": {
        "id": "XVkQ5A0fTJrM"
      },
      "outputs": [],
      "source": [
        "tree =ET.parse('/content/drive/MyDrive/Colab Notebooks/Apple Health Data/export.xml')"
      ]
    },
    {
      "cell_type": "code",
      "source": [
        "# for every health record, extract the attributes into roo\n",
        "root = tree.getroot()\n",
        "record_list = [x.attrib for x in root.iter('Record')]"
      ],
      "metadata": {
        "id": "oB5Cbr0mV9Np"
      },
      "execution_count": null,
      "outputs": []
    },
    {
      "cell_type": "code",
      "source": [
        "data = pd.DataFrame(record_list)"
      ],
      "metadata": {
        "id": "RgVmGyzBYm3T"
      },
      "execution_count": null,
      "outputs": []
    },
    {
      "cell_type": "markdown",
      "source": [
        "## Enable Google Colab Dataframe formatter"
      ],
      "metadata": {
        "id": "ksO2fmRqM_1p"
      }
    },
    {
      "cell_type": "code",
      "source": [
        "from google.colab import data_table\n",
        "# from vega_datasets import data\n",
        "\n",
        "data_table.enable_dataframe_formatter()"
      ],
      "metadata": {
        "id": "s1TNHx5XYuDT"
      },
      "execution_count": null,
      "outputs": []
    },
    {
      "cell_type": "code",
      "source": [
        "# proper type to dates\n",
        "for  col in ['creationDate', 'startDate', 'endDate']:\n",
        "  data[col] = pd.to_datetime(data[col])"
      ],
      "metadata": {
        "id": "yGWqWfhsWhf5"
      },
      "execution_count": null,
      "outputs": []
    },
    {
      "cell_type": "code",
      "source": [
        "# value is numeric, NaN if fails\n",
        "data['value'] =pd.to_numeric(data['value'], errors = 'coerce')\n",
        "\n",
        "# some records do not measure anything, just count occurences\n",
        "# filling with 1.0 (= one time )makes it easier to aggregate\n",
        "data['value'] = data['value'].fillna(1.0)"
      ],
      "metadata": {
        "id": "znY_zFwnYUxO"
      },
      "execution_count": null,
      "outputs": []
    },
    {
      "cell_type": "code",
      "source": [
        "data['type'] = data['type'].str.replace('HKQuantityTypeIdentifier', '')\n",
        "data['type'] = data['type'].str.replace('HKCategoryTypeIdentifier', '')"
      ],
      "metadata": {
        "id": "PC3ZfjiTb2Q3"
      },
      "execution_count": null,
      "outputs": []
    },
    {
      "cell_type": "code",
      "source": [
        "# Show distribution of type records\n",
        "data['type'].value_counts()"
      ],
      "metadata": {
        "id": "kLsjbsuof_HO"
      },
      "execution_count": null,
      "outputs": []
    },
    {
      "cell_type": "code",
      "source": [
        "print(data.info())"
      ],
      "metadata": {
        "id": "iONHsnXSoQao"
      },
      "execution_count": null,
      "outputs": []
    },
    {
      "cell_type": "code",
      "source": [
        "swim_df = data[data['creationDate'] >= '2020-01-01']\n",
        "swim_df.drop(['sourceName', 'sourceVersion','device'], axis=1, inplace = True)\n",
        "swim_df1 = swim_df[swim_df['type'] == 'DistanceSwimming']\n",
        "print(swim_df1.info())\n",
        "print(swim_df1.head(5))"
      ],
      "metadata": {
        "id": "dHNj_NzTofBd"
      },
      "execution_count": null,
      "outputs": []
    },
    {
      "cell_type": "markdown",
      "source": [
        "## Now get the seconds for each lap"
      ],
      "metadata": {
        "id": "0_HHrL0uaYkG"
      }
    },
    {
      "cell_type": "code",
      "source": [
        "# Convert timedelta or lap duration into float for seconds\n",
        "# I had the haardest time trying to figure out this syntax\n",
        "swim_df1['secperlap'] = (swim_df1['endDate'] - swim_df1['startDate'])/ np.timedelta64(1, 's')\n",
        "swim_df1['start'] = pd.to_datetime(swim_df1['startDate']).dt.date\n"
      ],
      "metadata": {
        "id": "ltcu-owptjmt"
      },
      "execution_count": null,
      "outputs": []
    },
    {
      "cell_type": "code",
      "source": [
        "# lets look at why August 22 2021 has bad data\n",
        "# bad_df['start'] = pd.to_datetime(swim_df1['creationDate'], format='%m/%d/%Y')\n",
        "bad_df = (swim_df1[swim_df1['start'] <= '2021-08-23'] & swim_df1[swim_df1['start'] >= '2021-08-21'])\n",
        "bad_df"
      ],
      "metadata": {
        "id": "VUlDt0YF7hyY"
      },
      "execution_count": null,
      "outputs": []
    },
    {
      "cell_type": "markdown",
      "source": [
        "### Now get statistics on seconds per lap"
      ],
      "metadata": {
        "id": "Qhg0nomTuCA2"
      }
    },
    {
      "cell_type": "code",
      "source": [
        "swim_df1[[\"secperlap\"]].describe()"
      ],
      "metadata": {
        "id": "VKD-7FW6twWV"
      },
      "execution_count": null,
      "outputs": []
    },
    {
      "cell_type": "code",
      "source": [
        "swim_by_date = swim_df1.groupby(\"start\")[\"secperlap\"].mean()"
      ],
      "metadata": {
        "id": "7PGxEYW3O26N"
      },
      "execution_count": null,
      "outputs": []
    },
    {
      "cell_type": "code",
      "source": [
        "swim_by_date"
      ],
      "metadata": {
        "id": "sQsnweXjPWhS"
      },
      "execution_count": null,
      "outputs": []
    },
    {
      "cell_type": "code",
      "source": [
        "swim_by_datedf = swim_by_date.to_frame().reset_index()\n",
        "print(swim_by_datedf.info())"
      ],
      "metadata": {
        "id": "IskyrnqPRtn2"
      },
      "execution_count": null,
      "outputs": []
    },
    {
      "cell_type": "code",
      "source": [
        "swim_by_datedf"
      ],
      "metadata": {
        "id": "fAOHSPKL80tC"
      },
      "execution_count": null,
      "outputs": []
    },
    {
      "cell_type": "code",
      "source": [
        "# lets look at why August 22 2021 has bad data\n",
        "bad_df = swim_by_datedf[swim_by_datedf['start'] >= '2021-08-22']\n",
        "bad_df"
      ],
      "metadata": {
        "id": "M8P1oYEw81Wl"
      },
      "execution_count": null,
      "outputs": []
    },
    {
      "cell_type": "code",
      "source": [
        "import plotly.graph_objects as go\n",
        "fig = go.Figure(data=go.Scatter(x=swim_by_datedf['start'],y=swim_by_datedf['secperlap']))\n",
        "fig.update_layout(title_text='<b>Average Time per Lap</b>', title_x=0.5)\n",
        "# fig = go.Figure(data=go.Scatter(x=fmsdx1.index,y=fmsdx1['Close'], mode='lines'))\n",
        "fig.show()"
      ],
      "metadata": {
        "id": "C18kMVSeA61M"
      },
      "execution_count": null,
      "outputs": []
    },
    {
      "cell_type": "code",
      "source": [
        "import plotly.express as px\n",
        "# df = px.swim_df1.secperlap()s\n",
        "fig = px.histogram(swim_df1, x=\"secperlap\",\n",
        "                   marginal=\"violin\") # or violin, rug\n",
        "                  #  hover_data=df.columns)\n",
        "fig.show()"
      ],
      "metadata": {
        "id": "XRcDdjw-xBgt"
      },
      "execution_count": null,
      "outputs": []
    },
    {
      "cell_type": "code",
      "source": [
        "# import plotly.express as px\n",
        "# df = px.data.tips()\n",
        "fig = px.scatter(swim_by_datedf, x=\"start\", y='secperlap')\n",
        "fig.show()"
      ],
      "metadata": {
        "id": "mi_4kVRehmkx"
      },
      "execution_count": null,
      "outputs": []
    },
    {
      "cell_type": "code",
      "source": [
        ""
      ],
      "metadata": {
        "id": "r12noNHuoYX8"
      },
      "execution_count": null,
      "outputs": []
    },
    {
      "cell_type": "code",
      "source": [
        "swim_df1['start'] = pd.to_datetime(swim_df1['startDate']).dt.date\n",
        "# df[\"date\"] = pd.to_datetime(df[\"date\"]).dt.date"
      ],
      "metadata": {
        "id": "ceKwImwRc0-9"
      },
      "execution_count": null,
      "outputs": []
    },
    {
      "cell_type": "code",
      "source": [
        ""
      ],
      "metadata": {
        "id": "zdlDT2vPqsci"
      },
      "execution_count": null,
      "outputs": []
    },
    {
      "cell_type": "code",
      "source": [
        "import seaborn as sns\n",
        "sns.distplot(swim_df1, kde=False, color=\"b\", ax=axes[0, 0])"
      ],
      "metadata": {
        "id": "mFGHCwG_qpmq"
      },
      "execution_count": null,
      "outputs": []
    },
    {
      "cell_type": "code",
      "source": [
        "data = swim_df1['secperlap']\n",
        "\n",
        "sns.displot(data, discrete = True, kde = True)\n",
        "\n",
        "# plt.show()"
      ],
      "metadata": {
        "id": "1qUlrYKhrMkw"
      },
      "execution_count": null,
      "outputs": []
    },
    {
      "cell_type": "code",
      "source": [
        "# swim_df1.groupby(start)[\"secperlap\"].mean()"
      ],
      "metadata": {
        "id": "OQXOqYlFoa2_"
      },
      "execution_count": null,
      "outputs": []
    },
    {
      "cell_type": "code",
      "source": [
        "table = pd.pivot_table(data=swim_df1,index=['start'],aggfunc = sum)\n",
        "table['avgtimeper']= round(table['timedelta'] / table['value'],2)\n",
        "table['avgtime']= round((table['timedelta'] / 60),2)\n",
        "table\n",
        "# print(table.info())"
      ],
      "metadata": {
        "id": "A05c-Gf7yhzq"
      },
      "execution_count": null,
      "outputs": []
    },
    {
      "cell_type": "code",
      "source": [
        ""
      ],
      "metadata": {
        "id": "kAWcgz7bqS2Y"
      },
      "execution_count": null,
      "outputs": []
    },
    {
      "cell_type": "markdown",
      "source": [
        ""
      ],
      "metadata": {
        "id": "OyLjLZ9oqSQv"
      }
    },
    {
      "cell_type": "code",
      "source": [
        "import numpy as np\n",
        "\n",
        "# pivot and resample\n",
        "pivot_df = data.pivot_table(index='endDate', columns='type', values='value')\n",
        "df = pivot_df.resample('D').agg({'DistanceSwimming' :sum})\n",
        "                                #  'DistanceWalkingRunning' : sum})"
      ],
      "metadata": {
        "id": "pU4wm0A1dy2O"
      },
      "execution_count": null,
      "outputs": []
    }
  ]
}