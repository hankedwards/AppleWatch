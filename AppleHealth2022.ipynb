{
  "nbformat": 4,
  "nbformat_minor": 0,
  "metadata": {
    "colab": {
      "name": "AppleHealth2022.ipynb",
      "private_outputs": true,
      "provenance": [],
      "collapsed_sections": [],
      "authorship_tag": "ABX9TyNgO2DqTlFDr0+cq1tGJqrC",
      "include_colab_link": true
    },
    "kernelspec": {
      "name": "python3",
      "display_name": "Python 3"
    },
    "language_info": {
      "name": "python"
    }
  },
  "cells": [
    {
      "cell_type": "markdown",
      "metadata": {
        "id": "view-in-github",
        "colab_type": "text"
      },
      "source": [
        "<a href=\"https://colab.research.google.com/github/hankedwards/AppleWatch/blob/master/AppleHealth2022.ipynb\" target=\"_parent\"><img src=\"https://colab.research.google.com/assets/colab-badge.svg\" alt=\"Open In Colab\"/></a>"
      ]
    },
    {
      "cell_type": "markdown",
      "source": [
        ""
      ],
      "metadata": {
        "id": "R08d62xuU5V7"
      }
    },
    {
      "cell_type": "markdown",
      "source": [
        "#Analyze Apple Health Data"
      ],
      "metadata": {
        "id": "E2FRxz1KMbKB"
      }
    },
    {
      "cell_type": "markdown",
      "source": [
        "## Import the libraries"
      ],
      "metadata": {
        "id": "sPTz5HppM_gF"
      }
    },
    {
      "cell_type": "code",
      "source": [
        "import xml.etree.ElementTree as ET\n",
        "import pandas as pd\n",
        "import datetime\n",
        "from datetime import datetime, timedelta\n",
        "import numpy as np"
      ],
      "metadata": {
        "id": "MpT5xc5bTl8n"
      },
      "execution_count": null,
      "outputs": []
    },
    {
      "cell_type": "code",
      "source": [
        "from google.colab import drive\n",
        "# drive.mount('/content/drive')\n",
        "drive.mount(\"/content/drive\", force_remount=True)"
      ],
      "metadata": {
        "id": "MD4cLWM8Tfnl"
      },
      "execution_count": null,
      "outputs": []
    },
    {
      "cell_type": "markdown",
      "source": [
        "## Create element tree object"
      ],
      "metadata": {
        "id": "hBftMYFdUk1P"
      }
    },
    {
      "cell_type": "code",
      "execution_count": null,
      "metadata": {
        "id": "XVkQ5A0fTJrM"
      },
      "outputs": [],
      "source": [
        "tree =ET.parse('/content/drive/MyDrive/Colab Notebooks/Apple Health Data/export.xml')"
      ]
    },
    {
      "cell_type": "code",
      "source": [
        "# for every health record, extract the attributes into roo\n",
        "root = tree.getroot()\n",
        "record_list = [x.attrib for x in root.iter('Record')]"
      ],
      "metadata": {
        "id": "oB5Cbr0mV9Np"
      },
      "execution_count": null,
      "outputs": []
    },
    {
      "cell_type": "code",
      "source": [
        "data = pd.DataFrame(record_list)"
      ],
      "metadata": {
        "id": "RgVmGyzBYm3T"
      },
      "execution_count": null,
      "outputs": []
    },
    {
      "cell_type": "markdown",
      "source": [
        "## Enable Google Colab Dataframe formatter"
      ],
      "metadata": {
        "id": "ksO2fmRqM_1p"
      }
    },
    {
      "cell_type": "code",
      "source": [
        "from google.colab import data_table\n",
        "# from vega_datasets import data\n",
        "\n",
        "data_table.enable_dataframe_formatter()"
      ],
      "metadata": {
        "id": "s1TNHx5XYuDT"
      },
      "execution_count": null,
      "outputs": []
    },
    {
      "cell_type": "code",
      "source": [
        "# proper type to dates\n",
        "for  col in ['creationDate', 'startDate', 'endDate']:\n",
        "  data[col] = pd.to_datetime(data[col])"
      ],
      "metadata": {
        "id": "yGWqWfhsWhf5"
      },
      "execution_count": null,
      "outputs": []
    },
    {
      "cell_type": "code",
      "source": [
        "data.info()"
      ],
      "metadata": {
        "id": "H3rggA8DDv5p"
      },
      "execution_count": null,
      "outputs": []
    },
    {
      "cell_type": "code",
      "source": [
        "# value is numeric, NaN if fails\n",
        "data['value'] =pd.to_numeric(data['value'], errors = 'coerce')\n",
        "\n",
        "# some records do not measure anything, just count occurences\n",
        "# filling with 1.0 (= one time )makes it easier to aggregate\n",
        "data['value'] = data['value'].fillna(1.0)"
      ],
      "metadata": {
        "id": "znY_zFwnYUxO"
      },
      "execution_count": null,
      "outputs": []
    },
    {
      "cell_type": "code",
      "source": [
        "data['type'] = data['type'].str.replace('HKQuantityTypeIdentifier', '')\n",
        "data['type'] = data['type'].str.replace('HKCategoryTypeIdentifier', '')"
      ],
      "metadata": {
        "id": "PC3ZfjiTb2Q3"
      },
      "execution_count": null,
      "outputs": []
    },
    {
      "cell_type": "code",
      "source": [
        "# Show distribution of type records\n",
        "data['type'].value_counts()"
      ],
      "metadata": {
        "id": "kLsjbsuof_HO"
      },
      "execution_count": null,
      "outputs": []
    },
    {
      "cell_type": "markdown",
      "source": [
        "## Drop unneeded columns"
      ],
      "metadata": {
        "id": "veUfDEgl_LDd"
      }
    },
    {
      "cell_type": "code",
      "source": [
        "data.drop(['sourceName', 'sourceVersion','device'], axis=1, inplace = True)"
      ],
      "metadata": {
        "id": "yDVpcmg3_Ugn"
      },
      "execution_count": null,
      "outputs": []
    },
    {
      "cell_type": "code",
      "source": [
        "# Show the datafram information\n",
        "\n",
        "print(data.info())"
      ],
      "metadata": {
        "id": "iONHsnXSoQao"
      },
      "execution_count": null,
      "outputs": []
    },
    {
      "cell_type": "code",
      "source": [
        "data.set_index('creationDate', inplace =True)"
      ],
      "metadata": {
        "id": "yIEVYk_A6__H"
      },
      "execution_count": null,
      "outputs": []
    },
    {
      "cell_type": "markdown",
      "source": [
        "### Now get only the swimming records"
      ],
      "metadata": {
        "id": "r64Ilvv1k-In"
      }
    },
    {
      "cell_type": "code",
      "source": [
        "swim_df = (data[data.index >= '2018-08-22']) \n",
        "swim_df1 = swim_df[swim_df['type'] == 'DistanceSwimming']\n",
        "precovid = (swim_df1[swim_df1.index <= '2020-02-21']) \n",
        "postcovid = (swim_df1[swim_df1.index >= '2021-06-01'])\n",
        "precovid['covid'] = 'Pre'\n",
        "postcovid['covid'] = 'Post'\n",
        "\n",
        "swim_df2 = precovid\n",
        "# precovid.info()\n",
        "precovid.head(4)\n",
        "# postcovid.info()\n",
        "# print(swim_df.info())\n",
        "# print(swim_df1.info())\n",
        "swim_df2 = pd.concat([precovid, postcovid],  ignore_index=True,)"
      ],
      "metadata": {
        "id": "dobRy2GllTR2"
      },
      "execution_count": null,
      "outputs": []
    },
    {
      "cell_type": "code",
      "source": [
        "swim_df2.info()"
      ],
      "metadata": {
        "id": "qwhuIPebzJGo"
      },
      "execution_count": null,
      "outputs": []
    },
    {
      "cell_type": "code",
      "source": [
        ""
      ],
      "metadata": {
        "id": "KfjLjYd1zNZM"
      },
      "execution_count": null,
      "outputs": []
    },
    {
      "cell_type": "code",
      "source": [
        "# datetime.date(2020, 3, 1)\n"
      ],
      "metadata": {
        "id": "12Q5DmCPIl_v"
      },
      "execution_count": null,
      "outputs": []
    },
    {
      "cell_type": "code",
      "source": [
        "# covid_datedt = pd.to_datetime('2020-03-01')\n",
        "# coviddt = datetime.date(2020, 3, 1)\n",
        "# # covid = datetime.date(2020, 3, 1)\n",
        "# # covid_datedt = covid_date.to_datetime\n",
        "# # covid_datedt = pd.to_datetime(covid_date)\n",
        "# # dt_obj = datetime.fromtimestamp(covid_datedt)\n",
        "# covid_datedt\n",
        "# coviddt"
      ],
      "metadata": {
        "id": "GyQ2Dw7cI4CT"
      },
      "execution_count": null,
      "outputs": []
    },
    {
      "cell_type": "code",
      "source": [
        "# swim_df1['startDate'] >= covid_date"
      ],
      "metadata": {
        "id": "cbAfBnUiCdPQ"
      },
      "execution_count": null,
      "outputs": []
    },
    {
      "cell_type": "markdown",
      "source": [
        "##Now set a variable to indicate whether the time was before covid or after covic so we can determine if there is a difference in the average time"
      ],
      "metadata": {
        "id": "4-Ret5OAEuk-"
      }
    },
    {
      "cell_type": "code",
      "source": [
        "# create new colvid for covid indicator\n",
        "# swim_df1['covid'] = False"
      ],
      "metadata": {
        "id": "-SwbKjYdD8cL"
      },
      "execution_count": null,
      "outputs": []
    },
    {
      "cell_type": "markdown",
      "source": [
        "###Write function to set covid variable based on date"
      ],
      "metadata": {
        "id": "SHNpA7b6h6Oc"
      }
    },
    {
      "cell_type": "code",
      "source": [
        "# def covid_grp(x):\n",
        "#   if x <= ('2022-03-01'):\n",
        "#     return 'True'\n",
        "#   elif x > ('2022-03-01'): \n",
        "#     return 'False' \n",
        "\n",
        "# swim_df1['covid'] = swim_df1['creationDate'].apply(covid_grp)   "
      ],
      "metadata": {
        "id": "PzVosqcfdbt-"
      },
      "execution_count": null,
      "outputs": []
    },
    {
      "cell_type": "markdown",
      "source": [
        "df.loc[df['Age'] < 30, 'Age Category'] = 'Under 30'"
      ],
      "metadata": {
        "id": "pMhqIy8wETMD"
      }
    },
    {
      "cell_type": "markdown",
      "source": [
        "###df.loc[df.ID == 103, 'FirstName'] = \"Matt\""
      ],
      "metadata": {
        "id": "EgvOXIpu-0O3"
      }
    },
    {
      "cell_type": "markdown",
      "source": [
        "#now identify erroneous rows"
      ],
      "metadata": {
        "id": "Es8S2k4sskpk"
      }
    },
    {
      "cell_type": "code",
      "source": [
        "# swim_df1.loc[swim_df1.index >= '2021-08-22'] "
      ],
      "metadata": {
        "id": "4uoGBkeIdHFd"
      },
      "execution_count": null,
      "outputs": []
    },
    {
      "cell_type": "markdown",
      "source": [
        "#Identify Covid dates"
      ],
      "metadata": {
        "id": "Lma8UX71sy1r"
      }
    },
    {
      "cell_type": "code",
      "source": [
        "# swim_df1.loc[swim_df1['startDate'] <= pd.datetime('2020, 03,01'), 'covid'] == 'False'\n",
        "# swim_df1.loc[swim_df1['startDate'] >= d, 'covid'] == 'True'\n",
        "# swim_df1.loc[swim_df1['startDate'] >= covid_datedt, 'covid'] == True"
      ],
      "metadata": {
        "id": "tLQtGwumDdRB"
      },
      "execution_count": null,
      "outputs": []
    },
    {
      "cell_type": "code",
      "source": [
        "swim_df2['covid'].value_counts()\n",
        "# swim_df1.info()\n",
        "# swim_df2.tail(5)"
      ],
      "metadata": {
        "id": "O7mVCjxB5Irg"
      },
      "execution_count": null,
      "outputs": []
    },
    {
      "cell_type": "markdown",
      "source": [
        "#Drop the offending rows"
      ],
      "metadata": {
        "id": "ghAR53vpnRVH"
      }
    },
    {
      "cell_type": "code",
      "source": [
        "# Create string column for the start date for further summarization and grouping\n",
        "swim_df2['start'] = pd.to_datetime(swim_df2['startDate']).dt.date\n",
        "\n",
        "\n",
        "# Drop the rows where the length of the lap was 16, as this must have been\n",
        "# when I swam at the clubhouse\n",
        "# drop records where the yards/lap = 16\n",
        "swim_df2.drop(swim_df2[swim_df2['value'] == 16].index, inplace = True)\n"
      ],
      "metadata": {
        "id": "MDbMPXfJ2pQq"
      },
      "execution_count": null,
      "outputs": []
    },
    {
      "cell_type": "code",
      "source": [
        "# swim_df1['start'] = pd.to_datetime(swim_df1['startDate']).dt.date\n",
        "swim_df2.info()"
      ],
      "metadata": {
        "id": "To4OVoiz2rTe"
      },
      "execution_count": null,
      "outputs": []
    },
    {
      "cell_type": "markdown",
      "source": [
        "##Convert the timedelta to second to get seconds per lap"
      ],
      "metadata": {
        "id": "700-yEr4vGq3"
      }
    },
    {
      "cell_type": "code",
      "source": [
        "swim_df2['secperlap'] = (swim_df2['endDate'] - swim_df2['startDate'])/ np.timedelta64(1, 's')\n",
        "swim_df2.info()\n",
        "print(swim_df2.head(5))"
      ],
      "metadata": {
        "id": "ltcu-owptjmt"
      },
      "execution_count": null,
      "outputs": []
    },
    {
      "cell_type": "markdown",
      "source": [
        "### Now get statistics on seconds per lap"
      ],
      "metadata": {
        "id": "Qhg0nomTuCA2"
      }
    },
    {
      "cell_type": "code",
      "source": [
        "#swim_df1[[\"secperlap\"]].describe()"
      ],
      "metadata": {
        "id": "VKD-7FW6twWV"
      },
      "execution_count": null,
      "outputs": []
    },
    {
      "cell_type": "code",
      "source": [
        "swim_by_date = swim_df2.groupby([\"covid\", \"start\"])[\"secperlap\"].mean()\n",
        "print(swim_by_date)"
      ],
      "metadata": {
        "id": "7PGxEYW3O26N"
      },
      "execution_count": null,
      "outputs": []
    },
    {
      "cell_type": "code",
      "source": [
        "covidmean = swim_df2.groupby([\"covid\"])[\"secperlap\"].mean()"
      ],
      "metadata": {
        "id": "wXTQvqv7sxm6"
      },
      "execution_count": null,
      "outputs": []
    },
    {
      "cell_type": "code",
      "source": [
        "#swim_by_date.info\n",
        "#swim_by_date['secperlab'].describe\n"
      ],
      "metadata": {
        "id": "nvi8m_2io6sM"
      },
      "execution_count": null,
      "outputs": []
    },
    {
      "cell_type": "code",
      "source": [
        ""
      ],
      "metadata": {
        "id": "_xdCRlTlpRWb"
      },
      "execution_count": null,
      "outputs": []
    },
    {
      "cell_type": "code",
      "source": [
        "swim_by_datedf = swim_by_date.to_frame().reset_index()\n",
        "print(swim_by_datedf.info())"
      ],
      "metadata": {
        "id": "IskyrnqPRtn2"
      },
      "execution_count": null,
      "outputs": []
    },
    {
      "cell_type": "code",
      "source": [
        "print(swim_by_datedf.info())\n",
        "swim_by_datedf"
      ],
      "metadata": {
        "id": "fAOHSPKL80tC"
      },
      "execution_count": null,
      "outputs": []
    },
    {
      "cell_type": "code",
      "source": [
        "import plotly.graph_objects as go\n",
        "fig = go.Figure(data=go.Scatter(x=swim_by_datedf['start'],y=swim_by_datedf['secperlap']))\n",
        "fig.update_layout(title_text='<b>Average Time per Lap</b>', title_x=0.5)\n",
        "fig.show()"
      ],
      "metadata": {
        "id": "C18kMVSeA61M"
      },
      "execution_count": null,
      "outputs": []
    },
    {
      "cell_type": "code",
      "source": [
        "import plotly.express as px\n",
        "# df = px.swim_df1.secperlap()s\n",
        "fig = px.histogram(swim_df2, x=\"secperlap\",\n",
        "                   marginal=\"violin\") # or violin, rug\n",
        "                  #  hover_data=df.columns)\n",
        "fig.show()"
      ],
      "metadata": {
        "id": "XRcDdjw-xBgt"
      },
      "execution_count": null,
      "outputs": []
    },
    {
      "cell_type": "code",
      "source": [
        "# import plotly.express as px\n",
        "# df = px.data.tips()\n",
        "fig = px.scatter(swim_by_datedf, x=\"start\", y='secperlap')\n",
        "fig.show()"
      ],
      "metadata": {
        "id": "mi_4kVRehmkx"
      },
      "execution_count": null,
      "outputs": []
    },
    {
      "cell_type": "markdown",
      "source": [
        "##Now segregate the data between befor covid and after covid"
      ],
      "metadata": {
        "id": "8KDAzb1egyZt"
      }
    },
    {
      "cell_type": "code",
      "source": [
        "import plotly.express as px\n",
        "# df = px.swim_by_datedf.secperlap()\n",
        "fig = px.box(swim_by_datedf, x=\"covid\", y=\"secperlap\", points='all',notched=True)\n",
        "fig.update_traces(quartilemethod=\"inclusive\")\n",
        "fig.show()"
      ],
      "metadata": {
        "id": "HnjAQTbayShW"
      },
      "execution_count": null,
      "outputs": []
    },
    {
      "cell_type": "code",
      "source": [
        "fig = sns.FacetGrid(swim_by_datedf,hue='covid', aspect=4, size =10)\n",
        "fig.map(sns.kdeplot,'secperlap',shade=True)\n",
        "#oldest = titanic_df['Age'].max()\n",
        "#fig.set(xlim=(0,oldest))\n",
        "fig.add_legend()"
      ],
      "metadata": {
        "id": "smmGWFHAxR-m"
      },
      "execution_count": null,
      "outputs": []
    },
    {
      "cell_type": "code",
      "source": [
        "fig = sns.FacetGrid(swim_by_datedf,hue='covid', aspect=3, size=10)\n",
        "fig.map(sns.kdeplot,'secperlap',shade=True)\n",
        "#oldest = titanic_df['Age'].max()\n",
        "#fig.set(xlim=(0,oldest))\n",
        "fig.add_legend()"
      ],
      "metadata": {
        "id": "oNJx_dPOxZqh"
      },
      "execution_count": null,
      "outputs": []
    },
    {
      "cell_type": "code",
      "source": [
        "# sns.set(rc={\"figure.figsize\":(6, 5)}) #width=6, height=5\n",
        "ax = sns.boxplot(x='covid', y='secperlap', data=swim_by_datedf, color='#99c2a2')\n",
        "ax = sns.swarmplot(x='covid', y='secperlap', data=swim_by_datedf, color='#7d0013')\n",
        "\n",
        "# plt.show()"
      ],
      "metadata": {
        "id": "1qUlrYKhrMkw"
      },
      "execution_count": null,
      "outputs": []
    },
    {
      "cell_type": "markdown",
      "source": [
        ""
      ],
      "metadata": {
        "id": "OyLjLZ9oqSQv"
      }
    }
  ]
}